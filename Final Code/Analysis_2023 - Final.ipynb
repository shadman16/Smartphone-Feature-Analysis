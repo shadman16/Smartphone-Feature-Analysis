{
 "cells": [
  {
   "cell_type": "markdown",
   "id": "e9827e4e",
   "metadata": {},
   "source": [
    "# MGT-6203"
   ]
  },
  {
   "cell_type": "markdown",
   "id": "caee9ef4",
   "metadata": {},
   "source": [
    "# Team-48"
   ]
  },
  {
   "cell_type": "markdown",
   "id": "e8a74781",
   "metadata": {},
   "source": [
    "# Analysis of Mobile Data 2023"
   ]
  },
  {
   "cell_type": "code",
   "execution_count": 1,
   "id": "954e34a5",
   "metadata": {
    "vscode": {
     "languageId": "r"
    }
   },
   "outputs": [],
   "source": [
    "# Install packages if missing\n",
    "packages <- c(\"ggplot2\", \"corrplot\", \"car\", \"MASS\", \"dplyr\", \"lubridate\",\"randomForest\",\"xgboost\", \"caret\", \"stats\")\n",
    "install.packages(setdiff(packages, rownames(installed.packages()))) "
   ]
  },
  {
   "cell_type": "code",
   "execution_count": 2,
   "id": "6a5d5bf1",
   "metadata": {
    "vscode": {
     "languageId": "r"
    }
   },
   "outputs": [
    {
     "name": "stderr",
     "output_type": "stream",
     "text": [
      "corrplot 0.92 loaded\n",
      "\n",
      "Loading required package: carData\n",
      "\n",
      "\n",
      "Attaching package: 'dplyr'\n",
      "\n",
      "\n",
      "The following object is masked from 'package:MASS':\n",
      "\n",
      "    select\n",
      "\n",
      "\n",
      "The following object is masked from 'package:car':\n",
      "\n",
      "    recode\n",
      "\n",
      "\n",
      "The following objects are masked from 'package:stats':\n",
      "\n",
      "    filter, lag\n",
      "\n",
      "\n",
      "The following objects are masked from 'package:base':\n",
      "\n",
      "    intersect, setdiff, setequal, union\n",
      "\n",
      "\n",
      "\n",
      "Attaching package: 'lubridate'\n",
      "\n",
      "\n",
      "The following objects are masked from 'package:base':\n",
      "\n",
      "    date, intersect, setdiff, union\n",
      "\n",
      "\n",
      "Loading required package: lattice\n",
      "\n",
      "Loading required package: Matrix\n",
      "\n",
      "Loaded glmnet 4.1-7\n",
      "\n",
      "randomForest 4.7-1.1\n",
      "\n",
      "Type rfNews() to see new features/changes/bug fixes.\n",
      "\n",
      "\n",
      "Attaching package: 'randomForest'\n",
      "\n",
      "\n",
      "The following object is masked from 'package:dplyr':\n",
      "\n",
      "    combine\n",
      "\n",
      "\n",
      "The following object is masked from 'package:ggplot2':\n",
      "\n",
      "    margin\n",
      "\n",
      "\n",
      "\n",
      "Attaching package: 'xgboost'\n",
      "\n",
      "\n",
      "The following object is masked from 'package:dplyr':\n",
      "\n",
      "    slice\n",
      "\n",
      "\n"
     ]
    }
   ],
   "source": [
    "# Load library\n",
    "library(ggplot2)\n",
    "library(corrplot)\n",
    "library(car)\n",
    "library(MASS)\n",
    "library(dplyr)\n",
    "library(lubridate)\n",
    "library(caret)\n",
    "library(glmnet)\n",
    "library(randomForest)\n",
    "library(xgboost)\n",
    "library(Matrix)\n",
    "library(stats)"
   ]
  },
  {
   "cell_type": "markdown",
   "id": "3f37f78c",
   "metadata": {},
   "source": [
    "### Step 1: Loading Datasets"
   ]
  },
  {
   "cell_type": "code",
   "execution_count": 3,
   "id": "df0353bf",
   "metadata": {
    "vscode": {
     "languageId": "r"
    }
   },
   "outputs": [
    {
     "data": {
      "text/html": [
       "'C:/Users/moham/GitHub/Team-48'"
      ],
      "text/latex": [
       "'C:/Users/moham/GitHub/Team-48'"
      ],
      "text/markdown": [
       "'C:/Users/moham/GitHub/Team-48'"
      ],
      "text/plain": [
       "[1] \"C:/Users/moham/GitHub/Team-48\""
      ]
     },
     "metadata": {},
     "output_type": "display_data"
    }
   ],
   "source": [
    "# get current directory and reference to it\n",
    "setwd(\"..\")\n",
    "getwd()"
   ]
  },
  {
   "cell_type": "code",
   "execution_count": 4,
   "id": "bc929832",
   "metadata": {
    "scrolled": true,
    "vscode": {
     "languageId": "r"
    }
   },
   "outputs": [
    {
     "data": {
      "text/html": [
       "<table class=\"dataframe\">\n",
       "<caption>A data.frame: 3 × 17</caption>\n",
       "<thead>\n",
       "\t<tr><th></th><th scope=col>brand</th><th scope=col>name</th><th scope=col>price</th><th scope=col>rating</th><th scope=col>num_rating</th><th scope=col>num_reviews</th><th scope=col>display</th><th scope=col>battery_capacity</th><th scope=col>processor</th><th scope=col>ram_gb</th><th scope=col>storage_gb</th><th scope=col>expandable_upto_gb</th><th scope=col>color</th><th scope=col>n_rear_cams</th><th scope=col>best_rear_cam</th><th scope=col>best_front_cam</th><th scope=col>n_front_cams</th></tr>\n",
       "\t<tr><th></th><th scope=col>&lt;chr&gt;</th><th scope=col>&lt;chr&gt;</th><th scope=col>&lt;int&gt;</th><th scope=col>&lt;dbl&gt;</th><th scope=col>&lt;dbl&gt;</th><th scope=col>&lt;int&gt;</th><th scope=col>&lt;dbl&gt;</th><th scope=col>&lt;int&gt;</th><th scope=col>&lt;chr&gt;</th><th scope=col>&lt;dbl&gt;</th><th scope=col>&lt;dbl&gt;</th><th scope=col>&lt;dbl&gt;</th><th scope=col>&lt;chr&gt;</th><th scope=col>&lt;int&gt;</th><th scope=col>&lt;dbl&gt;</th><th scope=col>&lt;dbl&gt;</th><th scope=col>&lt;int&gt;</th></tr>\n",
       "</thead>\n",
       "<tbody>\n",
       "\t<tr><th scope=row>1</th><td>NOKIA</td><td>1  </td><td> 3799</td><td>3.9</td><td>13808</td><td>1615</td><td>11.43</td><td>2150</td><td>MT6737M QUAD CORE 1.1 GHZ     </td><td>1</td><td>  8</td><td> 128</td><td>DARK BLUE      </td><td>1</td><td> 5</td><td>2</td><td>1</td></tr>\n",
       "\t<tr><th scope=row>2</th><td>HTC  </td><td>10 </td><td>47990</td><td>4.2</td><td>  144</td><td>  43</td><td>13.21</td><td>3000</td><td>QUALCOMM SNAPDRAGON 820 64-BIT</td><td>4</td><td> 32</td><td>2000</td><td>CARBON GRAY    </td><td>1</td><td>12</td><td>5</td><td>1</td></tr>\n",
       "\t<tr><th scope=row>3</th><td>REDMI</td><td>10 </td><td>11999</td><td>4.2</td><td>25936</td><td>1871</td><td>17.02</td><td>6000</td><td>QUALCOMM SNAPDRAGON 680       </td><td>6</td><td>128</td><td>1000</td><td>CARIBBEAN GREEN</td><td>2</td><td>50</td><td>5</td><td>1</td></tr>\n",
       "</tbody>\n",
       "</table>\n"
      ],
      "text/latex": [
       "A data.frame: 3 × 17\n",
       "\\begin{tabular}{r|lllllllllllllllll}\n",
       "  & brand & name & price & rating & num\\_rating & num\\_reviews & display & battery\\_capacity & processor & ram\\_gb & storage\\_gb & expandable\\_upto\\_gb & color & n\\_rear\\_cams & best\\_rear\\_cam & best\\_front\\_cam & n\\_front\\_cams\\\\\n",
       "  & <chr> & <chr> & <int> & <dbl> & <dbl> & <int> & <dbl> & <int> & <chr> & <dbl> & <dbl> & <dbl> & <chr> & <int> & <dbl> & <dbl> & <int>\\\\\n",
       "\\hline\n",
       "\t1 & NOKIA & 1   &  3799 & 3.9 & 13808 & 1615 & 11.43 & 2150 & MT6737M QUAD CORE 1.1 GHZ      & 1 &   8 &  128 & DARK BLUE       & 1 &  5 & 2 & 1\\\\\n",
       "\t2 & HTC   & 10  & 47990 & 4.2 &   144 &   43 & 13.21 & 3000 & QUALCOMM SNAPDRAGON 820 64-BIT & 4 &  32 & 2000 & CARBON GRAY     & 1 & 12 & 5 & 1\\\\\n",
       "\t3 & REDMI & 10  & 11999 & 4.2 & 25936 & 1871 & 17.02 & 6000 & QUALCOMM SNAPDRAGON 680        & 6 & 128 & 1000 & CARIBBEAN GREEN & 2 & 50 & 5 & 1\\\\\n",
       "\\end{tabular}\n"
      ],
      "text/markdown": [
       "\n",
       "A data.frame: 3 × 17\n",
       "\n",
       "| <!--/--> | brand &lt;chr&gt; | name &lt;chr&gt; | price &lt;int&gt; | rating &lt;dbl&gt; | num_rating &lt;dbl&gt; | num_reviews &lt;int&gt; | display &lt;dbl&gt; | battery_capacity &lt;int&gt; | processor &lt;chr&gt; | ram_gb &lt;dbl&gt; | storage_gb &lt;dbl&gt; | expandable_upto_gb &lt;dbl&gt; | color &lt;chr&gt; | n_rear_cams &lt;int&gt; | best_rear_cam &lt;dbl&gt; | best_front_cam &lt;dbl&gt; | n_front_cams &lt;int&gt; |\n",
       "|---|---|---|---|---|---|---|---|---|---|---|---|---|---|---|---|---|---|\n",
       "| 1 | NOKIA | 1   |  3799 | 3.9 | 13808 | 1615 | 11.43 | 2150 | MT6737M QUAD CORE 1.1 GHZ      | 1 |   8 |  128 | DARK BLUE       | 1 |  5 | 2 | 1 |\n",
       "| 2 | HTC   | 10  | 47990 | 4.2 |   144 |   43 | 13.21 | 3000 | QUALCOMM SNAPDRAGON 820 64-BIT | 4 |  32 | 2000 | CARBON GRAY     | 1 | 12 | 5 | 1 |\n",
       "| 3 | REDMI | 10  | 11999 | 4.2 | 25936 | 1871 | 17.02 | 6000 | QUALCOMM SNAPDRAGON 680        | 6 | 128 | 1000 | CARIBBEAN GREEN | 2 | 50 | 5 | 1 |\n",
       "\n"
      ],
      "text/plain": [
       "  brand name price rating num_rating num_reviews display battery_capacity\n",
       "1 NOKIA 1     3799 3.9    13808      1615        11.43   2150            \n",
       "2 HTC   10   47990 4.2      144        43        13.21   3000            \n",
       "3 REDMI 10   11999 4.2    25936      1871        17.02   6000            \n",
       "  processor                      ram_gb storage_gb expandable_upto_gb\n",
       "1 MT6737M QUAD CORE 1.1 GHZ      1        8         128              \n",
       "2 QUALCOMM SNAPDRAGON 820 64-BIT 4       32        2000              \n",
       "3 QUALCOMM SNAPDRAGON 680        6      128        1000              \n",
       "  color           n_rear_cams best_rear_cam best_front_cam n_front_cams\n",
       "1 DARK BLUE       1            5            2              1           \n",
       "2 CARBON GRAY     1           12            5              1           \n",
       "3 CARIBBEAN GREEN 2           50            5              1           "
      ]
     },
     "metadata": {},
     "output_type": "display_data"
    }
   ],
   "source": [
    "# read web-scrapped Flipkart data\n",
    "orig_flipkart_2023 <- read.csv('Data/2023_processed_flipkart_mobiles.csv')\n",
    "head(orig_flipkart_2023, 3)"
   ]
  },
  {
   "cell_type": "code",
   "execution_count": 5,
   "id": "bef300aa",
   "metadata": {
    "vscode": {
     "languageId": "r"
    }
   },
   "outputs": [
    {
     "data": {
      "text/html": [
       "<table class=\"dataframe\">\n",
       "<caption>A data.frame: 3 × 50</caption>\n",
       "<thead>\n",
       "\t<tr><th></th><th scope=col>X1.Stars</th><th scope=col>X3.Stars</th><th scope=col>X5.Stars</th><th scope=col>X4.Stars</th><th scope=col>X2.Stars</th><th scope=col>url</th><th scope=col>Model</th><th scope=col>Brand</th><th scope=col>Rear.camera</th><th scope=col>Front.camera</th><th scope=col>...</th><th scope=col>X3G.1</th><th scope=col>X3G.2</th><th scope=col>GSM.CDMA.2</th><th scope=col>GSM.CDMA.1</th><th scope=col>SIM.Type.2</th><th scope=col>SIM.Type.1</th><th scope=col>Total.Ratings</th><th scope=col>Product.Name</th><th scope=col>Expandable.storage.up.to..GB.</th><th scope=col>Supports.4G.in.India..Band.40..1</th></tr>\n",
       "\t<tr><th></th><th scope=col>&lt;int&gt;</th><th scope=col>&lt;int&gt;</th><th scope=col>&lt;int&gt;</th><th scope=col>&lt;int&gt;</th><th scope=col>&lt;int&gt;</th><th scope=col>&lt;chr&gt;</th><th scope=col>&lt;chr&gt;</th><th scope=col>&lt;chr&gt;</th><th scope=col>&lt;chr&gt;</th><th scope=col>&lt;chr&gt;</th><th scope=col>...</th><th scope=col>&lt;chr&gt;</th><th scope=col>&lt;chr&gt;</th><th scope=col>&lt;chr&gt;</th><th scope=col>&lt;chr&gt;</th><th scope=col>&lt;chr&gt;</th><th scope=col>&lt;chr&gt;</th><th scope=col>&lt;chr&gt;</th><th scope=col>&lt;chr&gt;</th><th scope=col>&lt;chr&gt;</th><th scope=col>&lt;chr&gt;</th></tr>\n",
       "</thead>\n",
       "<tbody>\n",
       "\t<tr><th scope=row>1</th><td>5</td><td>6</td><td>70</td><td>18</td><td>2</td><td>https://www.gadgets360.com/vivo-v11-pro-5632</td><td>V11 Pro</td><td>Vivo</td><td>12-megapixel (f/1.8) + 5-megapixel (f/2.4)</td><td>25-megapixel (f/2.0)</td><td>...</td><td>Yes</td><td>Yes</td><td>GSM</td><td>GSM</td><td>Nano-SIM</td><td>Nano-SIM</td><td>6,534</td><td>Vivo V11 Pro (6GB RAM, 64GB) - Starry Night Black</td><td>256</td><td>Yes</td></tr>\n",
       "\t<tr><th scope=row>2</th><td>5</td><td>6</td><td>70</td><td>18</td><td>2</td><td>https://www.gadgets360.com/vivo-v11-pro-5632</td><td>V11 Pro</td><td>Vivo</td><td>12-megapixel (f/1.8) + 5-megapixel (f/2.4)</td><td>25-megapixel (f/2.0)</td><td>...</td><td>Yes</td><td>Yes</td><td>GSM</td><td>GSM</td><td>Nano-SIM</td><td>Nano-SIM</td><td>6,534</td><td>Vivo V11 Pro (6GB RAM, 64GB) - Dazzling Gold     </td><td>256</td><td>Yes</td></tr>\n",
       "\t<tr><th scope=row>3</th><td>5</td><td>6</td><td>70</td><td>18</td><td>2</td><td>https://www.gadgets360.com/vivo-v11-pro-5632</td><td>V11 Pro</td><td>Vivo</td><td>12-megapixel (f/1.8) + 5-megapixel (f/2.4)</td><td>25-megapixel (f/2.0)</td><td>...</td><td>Yes</td><td>Yes</td><td>GSM</td><td>GSM</td><td>Nano-SIM</td><td>Nano-SIM</td><td>6,534</td><td>Vivo V11 Pro (6GB RAM, 64GB) - Supernova Red     </td><td>256</td><td>Yes</td></tr>\n",
       "</tbody>\n",
       "</table>\n"
      ],
      "text/latex": [
       "A data.frame: 3 × 50\n",
       "\\begin{tabular}{r|lllllllllllllllllllll}\n",
       "  & X1.Stars & X3.Stars & X5.Stars & X4.Stars & X2.Stars & url & Model & Brand & Rear.camera & Front.camera & ... & X3G.1 & X3G.2 & GSM.CDMA.2 & GSM.CDMA.1 & SIM.Type.2 & SIM.Type.1 & Total.Ratings & Product.Name & Expandable.storage.up.to..GB. & Supports.4G.in.India..Band.40..1\\\\\n",
       "  & <int> & <int> & <int> & <int> & <int> & <chr> & <chr> & <chr> & <chr> & <chr> & ... & <chr> & <chr> & <chr> & <chr> & <chr> & <chr> & <chr> & <chr> & <chr> & <chr>\\\\\n",
       "\\hline\n",
       "\t1 & 5 & 6 & 70 & 18 & 2 & https://www.gadgets360.com/vivo-v11-pro-5632 & V11 Pro & Vivo & 12-megapixel (f/1.8) + 5-megapixel (f/2.4) & 25-megapixel (f/2.0) & ... & Yes & Yes & GSM & GSM & Nano-SIM & Nano-SIM & 6,534 & Vivo V11 Pro (6GB RAM, 64GB) - Starry Night Black & 256 & Yes\\\\\n",
       "\t2 & 5 & 6 & 70 & 18 & 2 & https://www.gadgets360.com/vivo-v11-pro-5632 & V11 Pro & Vivo & 12-megapixel (f/1.8) + 5-megapixel (f/2.4) & 25-megapixel (f/2.0) & ... & Yes & Yes & GSM & GSM & Nano-SIM & Nano-SIM & 6,534 & Vivo V11 Pro (6GB RAM, 64GB) - Dazzling Gold      & 256 & Yes\\\\\n",
       "\t3 & 5 & 6 & 70 & 18 & 2 & https://www.gadgets360.com/vivo-v11-pro-5632 & V11 Pro & Vivo & 12-megapixel (f/1.8) + 5-megapixel (f/2.4) & 25-megapixel (f/2.0) & ... & Yes & Yes & GSM & GSM & Nano-SIM & Nano-SIM & 6,534 & Vivo V11 Pro (6GB RAM, 64GB) - Supernova Red      & 256 & Yes\\\\\n",
       "\\end{tabular}\n"
      ],
      "text/markdown": [
       "\n",
       "A data.frame: 3 × 50\n",
       "\n",
       "| <!--/--> | X1.Stars &lt;int&gt; | X3.Stars &lt;int&gt; | X5.Stars &lt;int&gt; | X4.Stars &lt;int&gt; | X2.Stars &lt;int&gt; | url &lt;chr&gt; | Model &lt;chr&gt; | Brand &lt;chr&gt; | Rear.camera &lt;chr&gt; | Front.camera &lt;chr&gt; | ... ... | X3G.1 &lt;chr&gt; | X3G.2 &lt;chr&gt; | GSM.CDMA.2 &lt;chr&gt; | GSM.CDMA.1 &lt;chr&gt; | SIM.Type.2 &lt;chr&gt; | SIM.Type.1 &lt;chr&gt; | Total.Ratings &lt;chr&gt; | Product.Name &lt;chr&gt; | Expandable.storage.up.to..GB. &lt;chr&gt; | Supports.4G.in.India..Band.40..1 &lt;chr&gt; |\n",
       "|---|---|---|---|---|---|---|---|---|---|---|---|---|---|---|---|---|---|---|---|---|---|\n",
       "| 1 | 5 | 6 | 70 | 18 | 2 | https://www.gadgets360.com/vivo-v11-pro-5632 | V11 Pro | Vivo | 12-megapixel (f/1.8) + 5-megapixel (f/2.4) | 25-megapixel (f/2.0) | ... | Yes | Yes | GSM | GSM | Nano-SIM | Nano-SIM | 6,534 | Vivo V11 Pro (6GB RAM, 64GB) - Starry Night Black | 256 | Yes |\n",
       "| 2 | 5 | 6 | 70 | 18 | 2 | https://www.gadgets360.com/vivo-v11-pro-5632 | V11 Pro | Vivo | 12-megapixel (f/1.8) + 5-megapixel (f/2.4) | 25-megapixel (f/2.0) | ... | Yes | Yes | GSM | GSM | Nano-SIM | Nano-SIM | 6,534 | Vivo V11 Pro (6GB RAM, 64GB) - Dazzling Gold      | 256 | Yes |\n",
       "| 3 | 5 | 6 | 70 | 18 | 2 | https://www.gadgets360.com/vivo-v11-pro-5632 | V11 Pro | Vivo | 12-megapixel (f/1.8) + 5-megapixel (f/2.4) | 25-megapixel (f/2.0) | ... | Yes | Yes | GSM | GSM | Nano-SIM | Nano-SIM | 6,534 | Vivo V11 Pro (6GB RAM, 64GB) - Supernova Red      | 256 | Yes |\n",
       "\n"
      ],
      "text/plain": [
       "  X1.Stars X3.Stars X5.Stars X4.Stars X2.Stars\n",
       "1 5        6        70       18       2       \n",
       "2 5        6        70       18       2       \n",
       "3 5        6        70       18       2       \n",
       "  url                                          Model   Brand\n",
       "1 https://www.gadgets360.com/vivo-v11-pro-5632 V11 Pro Vivo \n",
       "2 https://www.gadgets360.com/vivo-v11-pro-5632 V11 Pro Vivo \n",
       "3 https://www.gadgets360.com/vivo-v11-pro-5632 V11 Pro Vivo \n",
       "  Rear.camera                                Front.camera         ... X3G.1\n",
       "1 12-megapixel (f/1.8) + 5-megapixel (f/2.4) 25-megapixel (f/2.0) ... Yes  \n",
       "2 12-megapixel (f/1.8) + 5-megapixel (f/2.4) 25-megapixel (f/2.0) ... Yes  \n",
       "3 12-megapixel (f/1.8) + 5-megapixel (f/2.4) 25-megapixel (f/2.0) ... Yes  \n",
       "  X3G.2 GSM.CDMA.2 GSM.CDMA.1 SIM.Type.2 SIM.Type.1 Total.Ratings\n",
       "1 Yes   GSM        GSM        Nano-SIM   Nano-SIM   6,534        \n",
       "2 Yes   GSM        GSM        Nano-SIM   Nano-SIM   6,534        \n",
       "3 Yes   GSM        GSM        Nano-SIM   Nano-SIM   6,534        \n",
       "  Product.Name                                     \n",
       "1 Vivo V11 Pro (6GB RAM, 64GB) - Starry Night Black\n",
       "2 Vivo V11 Pro (6GB RAM, 64GB) - Dazzling Gold     \n",
       "3 Vivo V11 Pro (6GB RAM, 64GB) - Supernova Red     \n",
       "  Expandable.storage.up.to..GB. Supports.4G.in.India..Band.40..1\n",
       "1 256                           Yes                             \n",
       "2 256                           Yes                             \n",
       "3 256                           Yes                             "
      ]
     },
     "metadata": {},
     "output_type": "display_data"
    }
   ],
   "source": [
    "# read gadgets360 web-scrapped data\n",
    "orig_gadgets360_2023 <- read.csv('Data/2023_gadget360.csv')\n",
    "head(orig_gadgets360_2023, 3)"
   ]
  },
  {
   "cell_type": "markdown",
   "id": "3a8ff2c4",
   "metadata": {},
   "source": [
    "### Step 2: Data Pre-processing"
   ]
  },
  {
   "cell_type": "markdown",
   "id": "18e9f740",
   "metadata": {},
   "source": [
    "#### FlipKart Data"
   ]
  },
  {
   "cell_type": "code",
   "execution_count": 6,
   "id": "6a1d9177",
   "metadata": {
    "vscode": {
     "languageId": "r"
    }
   },
   "outputs": [
    {
     "data": {
      "text/html": [
       "<style>\n",
       ".list-inline {list-style: none; margin:0; padding: 0}\n",
       ".list-inline>li {display: inline-block}\n",
       ".list-inline>li:not(:last-child)::after {content: \"\\00b7\"; padding: 0 .5ex}\n",
       "</style>\n",
       "<ol class=list-inline><li>1998</li><li>17</li></ol>\n"
      ],
      "text/latex": [
       "\\begin{enumerate*}\n",
       "\\item 1998\n",
       "\\item 17\n",
       "\\end{enumerate*}\n"
      ],
      "text/markdown": [
       "1. 1998\n",
       "2. 17\n",
       "\n",
       "\n"
      ],
      "text/plain": [
       "[1] 1998   17"
      ]
     },
     "metadata": {},
     "output_type": "display_data"
    },
    {
     "data": {
      "text/html": [
       "'Initial Number of rows 1998'"
      ],
      "text/latex": [
       "'Initial Number of rows 1998'"
      ],
      "text/markdown": [
       "'Initial Number of rows 1998'"
      ],
      "text/plain": [
       "[1] \"Initial Number of rows 1998\""
      ]
     },
     "metadata": {},
     "output_type": "display_data"
    }
   ],
   "source": [
    "dim(orig_flipkart_2023)\n",
    "paste0('Initial Number of rows ', nrow(orig_flipkart_2023))"
   ]
  },
  {
   "cell_type": "code",
   "execution_count": 7,
   "id": "a528ea0e",
   "metadata": {
    "vscode": {
     "languageId": "r"
    }
   },
   "outputs": [
    {
     "data": {
      "text/html": [
       "<style>\n",
       ".list-inline {list-style: none; margin:0; padding: 0}\n",
       ".list-inline>li {display: inline-block}\n",
       ".list-inline>li:not(:last-child)::after {content: \"\\00b7\"; padding: 0 .5ex}\n",
       "</style>\n",
       "<ol class=list-inline><li>1998</li><li>13</li></ol>\n"
      ],
      "text/latex": [
       "\\begin{enumerate*}\n",
       "\\item 1998\n",
       "\\item 13\n",
       "\\end{enumerate*}\n"
      ],
      "text/markdown": [
       "1. 1998\n",
       "2. 13\n",
       "\n",
       "\n"
      ],
      "text/plain": [
       "[1] 1998   13"
      ]
     },
     "metadata": {},
     "output_type": "display_data"
    }
   ],
   "source": [
    "# Remove Useless columns\n",
    "flipkart_2023 <- subset(orig_flipkart_2023, select = c('name', 'brand', 'price', 'rating', 'display', 'battery_capacity', 'ram_gb', \n",
    "                                         'storage_gb', 'expandable_upto_gb', \n",
    "                                         'n_rear_cams', 'best_rear_cam', 'best_front_cam', 'n_front_cams'))\n",
    "dim(flipkart_2023)"
   ]
  },
  {
   "cell_type": "code",
   "execution_count": 8,
   "id": "defcb0f5",
   "metadata": {
    "vscode": {
     "languageId": "r"
    }
   },
   "outputs": [
    {
     "data": {
      "text/html": [
       "'Number of rows with missing values 0'"
      ],
      "text/latex": [
       "'Number of rows with missing values 0'"
      ],
      "text/markdown": [
       "'Number of rows with missing values 0'"
      ],
      "text/plain": [
       "[1] \"Number of rows with missing values 0\""
      ]
     },
     "metadata": {},
     "output_type": "display_data"
    },
    {
     "data": {
      "text/html": [
       "<span style=white-space:pre-wrap>'Cleaned Number of Rows  1998'</span>"
      ],
      "text/latex": [
       "'Cleaned Number of Rows  1998'"
      ],
      "text/markdown": [
       "<span style=white-space:pre-wrap>'Cleaned Number of Rows  1998'</span>"
      ],
      "text/plain": [
       "[1] \"Cleaned Number of Rows  1998\""
      ]
     },
     "metadata": {},
     "output_type": "display_data"
    }
   ],
   "source": [
    "# Number of rows with missing Values\n",
    "flipkart_missing <- nrow(flipkart_2023) - nrow(flipkart_2023[complete.cases(flipkart_2023), ])\n",
    "paste0('Number of rows with missing values ', flipkart_missing)\n",
    "# Drop rows with missing values\n",
    "flipkart_2023 <- flipkart_2023[complete.cases(flipkart_2023), ]\n",
    "paste0('Cleaned Number of Rows  ', nrow(flipkart_2023))"
   ]
  },
  {
   "cell_type": "code",
   "execution_count": 9,
   "id": "7232e1eb",
   "metadata": {
    "vscode": {
     "languageId": "r"
    }
   },
   "outputs": [
    {
     "data": {
      "text/html": [
       "'Final Number of Rows 1040'"
      ],
      "text/latex": [
       "'Final Number of Rows 1040'"
      ],
      "text/markdown": [
       "'Final Number of Rows 1040'"
      ],
      "text/plain": [
       "[1] \"Final Number of Rows 1040\""
      ]
     },
     "metadata": {},
     "output_type": "display_data"
    }
   ],
   "source": [
    "# remove duplicates\n",
    "flipkart_2023 <-flipkart_2023[order(flipkart_2023[, \"price\"], decreasing=TRUE),]\n",
    "flipkart_2023 <- flipkart_2023[!duplicated(flipkart_2023[c(\"brand\", \"name\", \"rating\")]), ]\n",
    "paste0('Final Number of Rows ', nrow(flipkart_2023))"
   ]
  },
  {
   "cell_type": "markdown",
   "id": "9a1fdc81",
   "metadata": {},
   "source": [
    "#### Gadgets360"
   ]
  },
  {
   "cell_type": "code",
   "execution_count": 10,
   "id": "7ccfdd86",
   "metadata": {
    "vscode": {
     "languageId": "r"
    }
   },
   "outputs": [
    {
     "data": {
      "text/html": [
       "<style>\n",
       ".list-inline {list-style: none; margin:0; padding: 0}\n",
       ".list-inline>li {display: inline-block}\n",
       ".list-inline>li:not(:last-child)::after {content: \"\\00b7\"; padding: 0 .5ex}\n",
       "</style>\n",
       "<ol class=list-inline><li>'8695'</li><li>'50'</li></ol>\n"
      ],
      "text/latex": [
       "\\begin{enumerate*}\n",
       "\\item '8695'\n",
       "\\item '50'\n",
       "\\end{enumerate*}\n"
      ],
      "text/markdown": [
       "1. '8695'\n",
       "2. '50'\n",
       "\n",
       "\n"
      ],
      "text/plain": [
       "[1] \"8695\" \"50\"  "
      ]
     },
     "metadata": {},
     "output_type": "display_data"
    },
    {
     "data": {
      "text/html": [
       "'Initial Number of rows 8695'"
      ],
      "text/latex": [
       "'Initial Number of rows 8695'"
      ],
      "text/markdown": [
       "'Initial Number of rows 8695'"
      ],
      "text/plain": [
       "[1] \"Initial Number of rows 8695\""
      ]
     },
     "metadata": {},
     "output_type": "display_data"
    }
   ],
   "source": [
    "paste0(dim(orig_gadgets360_2023))\n",
    "paste0('Initial Number of rows ', nrow(orig_gadgets360_2023))"
   ]
  },
  {
   "cell_type": "code",
   "execution_count": 11,
   "id": "3a2e2b4e",
   "metadata": {
    "vscode": {
     "languageId": "r"
    }
   },
   "outputs": [
    {
     "data": {
      "text/html": [
       "<style>\n",
       ".list-inline {list-style: none; margin:0; padding: 0}\n",
       ".list-inline>li {display: inline-block}\n",
       ".list-inline>li:not(:last-child)::after {content: \"\\00b7\"; padding: 0 .5ex}\n",
       "</style>\n",
       "<ol class=list-inline><li>8695</li><li>6</li></ol>\n"
      ],
      "text/latex": [
       "\\begin{enumerate*}\n",
       "\\item 8695\n",
       "\\item 6\n",
       "\\end{enumerate*}\n"
      ],
      "text/markdown": [
       "1. 8695\n",
       "2. 6\n",
       "\n",
       "\n"
      ],
      "text/plain": [
       "[1] 8695    6"
      ]
     },
     "metadata": {},
     "output_type": "display_data"
    }
   ],
   "source": [
    "# Remove useless columns\n",
    "gadgets360_2023 <- subset(orig_gadgets360_2023, select = c('Brand', 'Model', 'Release.date', 'Operating.system',\n",
    "                                                           'Touchscreen', 'Number.of.SIMs'))\n",
    "dim(gadgets360_2023)"
   ]
  },
  {
   "cell_type": "code",
   "execution_count": 12,
   "id": "fa19d6cc",
   "metadata": {
    "vscode": {
     "languageId": "r"
    }
   },
   "outputs": [
    {
     "data": {
      "text/html": [
       "'Number of rows with missing values 895'"
      ],
      "text/latex": [
       "'Number of rows with missing values 895'"
      ],
      "text/markdown": [
       "'Number of rows with missing values 895'"
      ],
      "text/plain": [
       "[1] \"Number of rows with missing values 895\""
      ]
     },
     "metadata": {},
     "output_type": "display_data"
    },
    {
     "data": {
      "text/html": [
       "<span style=white-space:pre-wrap>'Cleaned Number of Rows  7800'</span>"
      ],
      "text/latex": [
       "'Cleaned Number of Rows  7800'"
      ],
      "text/markdown": [
       "<span style=white-space:pre-wrap>'Cleaned Number of Rows  7800'</span>"
      ],
      "text/plain": [
       "[1] \"Cleaned Number of Rows  7800\""
      ]
     },
     "metadata": {},
     "output_type": "display_data"
    }
   ],
   "source": [
    "# Number of rows with missing Values\n",
    "gadgets360_missing <- nrow(gadgets360_2023) - nrow(gadgets360_2023[complete.cases(gadgets360_2023), ])\n",
    "paste0('Number of rows with missing values ', gadgets360_missing)\n",
    "# Drop rows with missing values\n",
    "gadgets360_2023 <- gadgets360_2023[complete.cases(gadgets360_2023), ]\n",
    "paste0('Cleaned Number of Rows  ', nrow(gadgets360_2023))"
   ]
  },
  {
   "cell_type": "code",
   "execution_count": 13,
   "id": "b5c85648",
   "metadata": {
    "vscode": {
     "languageId": "r"
    }
   },
   "outputs": [
    {
     "data": {
      "text/html": [
       "'Final Number of Rows 4268'"
      ],
      "text/latex": [
       "'Final Number of Rows 4268'"
      ],
      "text/markdown": [
       "'Final Number of Rows 4268'"
      ],
      "text/plain": [
       "[1] \"Final Number of Rows 4268\""
      ]
     },
     "metadata": {},
     "output_type": "display_data"
    }
   ],
   "source": [
    "# remove duplicates\n",
    "gadgets360_2023 <- gadgets360_2023[!duplicated(gadgets360_2023[c(\"Brand\", \"Model\")]), ]\n",
    "paste0('Final Number of Rows ', nrow(gadgets360_2023))"
   ]
  },
  {
   "cell_type": "markdown",
   "id": "5009d04b",
   "metadata": {},
   "source": [
    "### Step 3: Merging Datasets"
   ]
  },
  {
   "cell_type": "code",
   "execution_count": 14,
   "id": "05463a21",
   "metadata": {
    "vscode": {
     "languageId": "r"
    }
   },
   "outputs": [],
   "source": [
    "# Prepare for merging (Upper case and remove white spaces)\n",
    "# Flipkart\n",
    "flipkart_2023$name = toupper(flipkart_2023$name)\n",
    "flipkart_2023$brand = toupper(flipkart_2023$brand)\n",
    "flipkart_2023$name <- trimws(flipkart_2023$name, which = c(\"both\"))\n",
    "flipkart_2023$brand <- trimws(flipkart_2023$brand, which = c(\"both\"))\n",
    "# Gadgets360\n",
    "gadgets360_2023$Model = toupper(gadgets360_2023$Model)\n",
    "gadgets360_2023$Brand = toupper(gadgets360_2023$Brand)\n",
    "gadgets360_2023$Model <- trimws(gadgets360_2023$Model, which = c(\"both\"))\n",
    "gadgets360_2023$Brand <- trimws(gadgets360_2023$Brand, which = c(\"both\"))"
   ]
  },
  {
   "cell_type": "code",
   "execution_count": 15,
   "id": "0059a4b5",
   "metadata": {
    "vscode": {
     "languageId": "r"
    }
   },
   "outputs": [],
   "source": [
    "# Clean Phone Name in Gadgets360\n",
    "# Remove (2020)\n",
    "gadgets360_2023$Model <- sub(\"\\\\s*\\\\(.*\", \"\", gadgets360_2023$Model)"
   ]
  },
  {
   "cell_type": "code",
   "execution_count": 16,
   "id": "22819b10",
   "metadata": {
    "scrolled": false,
    "vscode": {
     "languageId": "r"
    }
   },
   "outputs": [
    {
     "data": {
      "text/html": [
       "'Final Number of Rows 600'"
      ],
      "text/latex": [
       "'Final Number of Rows 600'"
      ],
      "text/markdown": [
       "'Final Number of Rows 600'"
      ],
      "text/plain": [
       "[1] \"Final Number of Rows 600\""
      ]
     },
     "metadata": {},
     "output_type": "display_data"
    },
    {
     "data": {
      "text/html": [
       "<style>\n",
       ".list-inline {list-style: none; margin:0; padding: 0}\n",
       ".list-inline>li {display: inline-block}\n",
       ".list-inline>li:not(:last-child)::after {content: \"\\00b7\"; padding: 0 .5ex}\n",
       "</style>\n",
       "<ol class=list-inline><li>600</li><li>17</li></ol>\n"
      ],
      "text/latex": [
       "\\begin{enumerate*}\n",
       "\\item 600\n",
       "\\item 17\n",
       "\\end{enumerate*}\n"
      ],
      "text/markdown": [
       "1. 600\n",
       "2. 17\n",
       "\n",
       "\n"
      ],
      "text/plain": [
       "[1] 600  17"
      ]
     },
     "metadata": {},
     "output_type": "display_data"
    },
    {
     "data": {
      "text/html": [
       "<table class=\"dataframe\">\n",
       "<caption>A data.frame: 3 × 17</caption>\n",
       "<thead>\n",
       "\t<tr><th></th><th scope=col>brand</th><th scope=col>name</th><th scope=col>price</th><th scope=col>rating</th><th scope=col>display</th><th scope=col>battery_capacity</th><th scope=col>ram_gb</th><th scope=col>storage_gb</th><th scope=col>expandable_upto_gb</th><th scope=col>n_rear_cams</th><th scope=col>best_rear_cam</th><th scope=col>best_front_cam</th><th scope=col>n_front_cams</th><th scope=col>Release.date</th><th scope=col>Operating.system</th><th scope=col>Touchscreen</th><th scope=col>Number.of.SIMs</th></tr>\n",
       "\t<tr><th></th><th scope=col>&lt;chr&gt;</th><th scope=col>&lt;chr&gt;</th><th scope=col>&lt;int&gt;</th><th scope=col>&lt;dbl&gt;</th><th scope=col>&lt;dbl&gt;</th><th scope=col>&lt;int&gt;</th><th scope=col>&lt;dbl&gt;</th><th scope=col>&lt;dbl&gt;</th><th scope=col>&lt;dbl&gt;</th><th scope=col>&lt;int&gt;</th><th scope=col>&lt;dbl&gt;</th><th scope=col>&lt;dbl&gt;</th><th scope=col>&lt;int&gt;</th><th scope=col>&lt;chr&gt;</th><th scope=col>&lt;chr&gt;</th><th scope=col>&lt;chr&gt;</th><th scope=col>&lt;int&gt;</th></tr>\n",
       "</thead>\n",
       "<tbody>\n",
       "\t<tr><th scope=row>1</th><td>ACER   </td><td>LIQUID Z530</td><td> 6999</td><td>3.8</td><td>12.70</td><td>2420</td><td>2</td><td>16</td><td> 32</td><td>1</td><td> 8</td><td>8</td><td>1</td><td>Sep-15</td><td>Android 5.1</td><td>Yes</td><td>1</td></tr>\n",
       "\t<tr><th scope=row>2</th><td>ALCATEL</td><td>3V         </td><td>10999</td><td>3.7</td><td>15.24</td><td>3000</td><td>3</td><td>32</td><td>128</td><td>2</td><td>16</td><td>8</td><td>1</td><td>Feb-18</td><td>Android 8.0</td><td>Yes</td><td>2</td></tr>\n",
       "\t<tr><th scope=row>3</th><td>ALCATEL</td><td>FLASH 2    </td><td> 9999</td><td>3.9</td><td>12.70</td><td>3000</td><td>2</td><td>16</td><td>128</td><td>1</td><td>13</td><td>0</td><td>0</td><td>Sep-15</td><td>Android 5.1</td><td>Yes</td><td>2</td></tr>\n",
       "</tbody>\n",
       "</table>\n"
      ],
      "text/latex": [
       "A data.frame: 3 × 17\n",
       "\\begin{tabular}{r|lllllllllllllllll}\n",
       "  & brand & name & price & rating & display & battery\\_capacity & ram\\_gb & storage\\_gb & expandable\\_upto\\_gb & n\\_rear\\_cams & best\\_rear\\_cam & best\\_front\\_cam & n\\_front\\_cams & Release.date & Operating.system & Touchscreen & Number.of.SIMs\\\\\n",
       "  & <chr> & <chr> & <int> & <dbl> & <dbl> & <int> & <dbl> & <dbl> & <dbl> & <int> & <dbl> & <dbl> & <int> & <chr> & <chr> & <chr> & <int>\\\\\n",
       "\\hline\n",
       "\t1 & ACER    & LIQUID Z530 &  6999 & 3.8 & 12.70 & 2420 & 2 & 16 &  32 & 1 &  8 & 8 & 1 & Sep-15 & Android 5.1 & Yes & 1\\\\\n",
       "\t2 & ALCATEL & 3V          & 10999 & 3.7 & 15.24 & 3000 & 3 & 32 & 128 & 2 & 16 & 8 & 1 & Feb-18 & Android 8.0 & Yes & 2\\\\\n",
       "\t3 & ALCATEL & FLASH 2     &  9999 & 3.9 & 12.70 & 3000 & 2 & 16 & 128 & 1 & 13 & 0 & 0 & Sep-15 & Android 5.1 & Yes & 2\\\\\n",
       "\\end{tabular}\n"
      ],
      "text/markdown": [
       "\n",
       "A data.frame: 3 × 17\n",
       "\n",
       "| <!--/--> | brand &lt;chr&gt; | name &lt;chr&gt; | price &lt;int&gt; | rating &lt;dbl&gt; | display &lt;dbl&gt; | battery_capacity &lt;int&gt; | ram_gb &lt;dbl&gt; | storage_gb &lt;dbl&gt; | expandable_upto_gb &lt;dbl&gt; | n_rear_cams &lt;int&gt; | best_rear_cam &lt;dbl&gt; | best_front_cam &lt;dbl&gt; | n_front_cams &lt;int&gt; | Release.date &lt;chr&gt; | Operating.system &lt;chr&gt; | Touchscreen &lt;chr&gt; | Number.of.SIMs &lt;int&gt; |\n",
       "|---|---|---|---|---|---|---|---|---|---|---|---|---|---|---|---|---|---|\n",
       "| 1 | ACER    | LIQUID Z530 |  6999 | 3.8 | 12.70 | 2420 | 2 | 16 |  32 | 1 |  8 | 8 | 1 | Sep-15 | Android 5.1 | Yes | 1 |\n",
       "| 2 | ALCATEL | 3V          | 10999 | 3.7 | 15.24 | 3000 | 3 | 32 | 128 | 2 | 16 | 8 | 1 | Feb-18 | Android 8.0 | Yes | 2 |\n",
       "| 3 | ALCATEL | FLASH 2     |  9999 | 3.9 | 12.70 | 3000 | 2 | 16 | 128 | 1 | 13 | 0 | 0 | Sep-15 | Android 5.1 | Yes | 2 |\n",
       "\n"
      ],
      "text/plain": [
       "  brand   name        price rating display battery_capacity ram_gb storage_gb\n",
       "1 ACER    LIQUID Z530  6999 3.8    12.70   2420             2      16        \n",
       "2 ALCATEL 3V          10999 3.7    15.24   3000             3      32        \n",
       "3 ALCATEL FLASH 2      9999 3.9    12.70   3000             2      16        \n",
       "  expandable_upto_gb n_rear_cams best_rear_cam best_front_cam n_front_cams\n",
       "1  32                1            8            8              1           \n",
       "2 128                2           16            8              1           \n",
       "3 128                1           13            0              0           \n",
       "  Release.date Operating.system Touchscreen Number.of.SIMs\n",
       "1 Sep-15       Android 5.1      Yes         1             \n",
       "2 Feb-18       Android 8.0      Yes         2             \n",
       "3 Sep-15       Android 5.1      Yes         2             "
      ]
     },
     "metadata": {},
     "output_type": "display_data"
    }
   ],
   "source": [
    "# Merge Datasets\n",
    "merged_df <- merge(flipkart_2023, gadgets360_2023, by.y=c(\"Brand\",\"Model\"), by.x=c(\"brand\",\"name\"), all=FALSE)\n",
    "paste0('Final Number of Rows ', nrow(merged_df))\n",
    "dim(merged_df)\n",
    "head(merged_df, 3)"
   ]
  },
  {
   "cell_type": "markdown",
   "id": "876efea5",
   "metadata": {},
   "source": [
    "### Step 3: Final Dataset Pre-processing"
   ]
  },
  {
   "cell_type": "code",
   "execution_count": 17,
   "id": "b230a49f",
   "metadata": {
    "scrolled": true,
    "vscode": {
     "languageId": "r"
    }
   },
   "outputs": [
    {
     "data": {
      "text/html": [
       "<table class=\"dataframe\">\n",
       "<caption>A data.frame: 3 × 17</caption>\n",
       "<thead>\n",
       "\t<tr><th></th><th scope=col>brand</th><th scope=col>name</th><th scope=col>price</th><th scope=col>rating</th><th scope=col>display</th><th scope=col>battery_capacity</th><th scope=col>ram_gb</th><th scope=col>storage_gb</th><th scope=col>expandable_upto_gb</th><th scope=col>n_rear_cams</th><th scope=col>best_rear_cam</th><th scope=col>best_front_cam</th><th scope=col>n_front_cams</th><th scope=col>Operating.system</th><th scope=col>Touchscreen</th><th scope=col>Number.of.SIMs</th><th scope=col>days_since_release</th></tr>\n",
       "\t<tr><th></th><th scope=col>&lt;chr&gt;</th><th scope=col>&lt;chr&gt;</th><th scope=col>&lt;int&gt;</th><th scope=col>&lt;dbl&gt;</th><th scope=col>&lt;dbl&gt;</th><th scope=col>&lt;int&gt;</th><th scope=col>&lt;dbl&gt;</th><th scope=col>&lt;dbl&gt;</th><th scope=col>&lt;dbl&gt;</th><th scope=col>&lt;int&gt;</th><th scope=col>&lt;dbl&gt;</th><th scope=col>&lt;dbl&gt;</th><th scope=col>&lt;int&gt;</th><th scope=col>&lt;chr&gt;</th><th scope=col>&lt;chr&gt;</th><th scope=col>&lt;int&gt;</th><th scope=col>&lt;dbl&gt;</th></tr>\n",
       "</thead>\n",
       "<tbody>\n",
       "\t<tr><th scope=row>1</th><td>ACER   </td><td>LIQUID Z530</td><td> 6999</td><td>3.8</td><td>12.70</td><td>2420</td><td>2</td><td>16</td><td> 32</td><td>1</td><td> 8</td><td>8</td><td>1</td><td>Android</td><td>Yes</td><td>1</td><td>2738</td></tr>\n",
       "\t<tr><th scope=row>2</th><td>ALCATEL</td><td>3V         </td><td>10999</td><td>3.7</td><td>15.24</td><td>3000</td><td>3</td><td>32</td><td>128</td><td>2</td><td>16</td><td>8</td><td>1</td><td>Android</td><td>Yes</td><td>2</td><td>1854</td></tr>\n",
       "\t<tr><th scope=row>3</th><td>ALCATEL</td><td>FLASH 2    </td><td> 9999</td><td>3.9</td><td>12.70</td><td>3000</td><td>2</td><td>16</td><td>128</td><td>1</td><td>13</td><td>0</td><td>0</td><td>Android</td><td>Yes</td><td>2</td><td>2738</td></tr>\n",
       "</tbody>\n",
       "</table>\n"
      ],
      "text/latex": [
       "A data.frame: 3 × 17\n",
       "\\begin{tabular}{r|lllllllllllllllll}\n",
       "  & brand & name & price & rating & display & battery\\_capacity & ram\\_gb & storage\\_gb & expandable\\_upto\\_gb & n\\_rear\\_cams & best\\_rear\\_cam & best\\_front\\_cam & n\\_front\\_cams & Operating.system & Touchscreen & Number.of.SIMs & days\\_since\\_release\\\\\n",
       "  & <chr> & <chr> & <int> & <dbl> & <dbl> & <int> & <dbl> & <dbl> & <dbl> & <int> & <dbl> & <dbl> & <int> & <chr> & <chr> & <int> & <dbl>\\\\\n",
       "\\hline\n",
       "\t1 & ACER    & LIQUID Z530 &  6999 & 3.8 & 12.70 & 2420 & 2 & 16 &  32 & 1 &  8 & 8 & 1 & Android & Yes & 1 & 2738\\\\\n",
       "\t2 & ALCATEL & 3V          & 10999 & 3.7 & 15.24 & 3000 & 3 & 32 & 128 & 2 & 16 & 8 & 1 & Android & Yes & 2 & 1854\\\\\n",
       "\t3 & ALCATEL & FLASH 2     &  9999 & 3.9 & 12.70 & 3000 & 2 & 16 & 128 & 1 & 13 & 0 & 0 & Android & Yes & 2 & 2738\\\\\n",
       "\\end{tabular}\n"
      ],
      "text/markdown": [
       "\n",
       "A data.frame: 3 × 17\n",
       "\n",
       "| <!--/--> | brand &lt;chr&gt; | name &lt;chr&gt; | price &lt;int&gt; | rating &lt;dbl&gt; | display &lt;dbl&gt; | battery_capacity &lt;int&gt; | ram_gb &lt;dbl&gt; | storage_gb &lt;dbl&gt; | expandable_upto_gb &lt;dbl&gt; | n_rear_cams &lt;int&gt; | best_rear_cam &lt;dbl&gt; | best_front_cam &lt;dbl&gt; | n_front_cams &lt;int&gt; | Operating.system &lt;chr&gt; | Touchscreen &lt;chr&gt; | Number.of.SIMs &lt;int&gt; | days_since_release &lt;dbl&gt; |\n",
       "|---|---|---|---|---|---|---|---|---|---|---|---|---|---|---|---|---|---|\n",
       "| 1 | ACER    | LIQUID Z530 |  6999 | 3.8 | 12.70 | 2420 | 2 | 16 |  32 | 1 |  8 | 8 | 1 | Android | Yes | 1 | 2738 |\n",
       "| 2 | ALCATEL | 3V          | 10999 | 3.7 | 15.24 | 3000 | 3 | 32 | 128 | 2 | 16 | 8 | 1 | Android | Yes | 2 | 1854 |\n",
       "| 3 | ALCATEL | FLASH 2     |  9999 | 3.9 | 12.70 | 3000 | 2 | 16 | 128 | 1 | 13 | 0 | 0 | Android | Yes | 2 | 2738 |\n",
       "\n"
      ],
      "text/plain": [
       "  brand   name        price rating display battery_capacity ram_gb storage_gb\n",
       "1 ACER    LIQUID Z530  6999 3.8    12.70   2420             2      16        \n",
       "2 ALCATEL 3V          10999 3.7    15.24   3000             3      32        \n",
       "3 ALCATEL FLASH 2      9999 3.9    12.70   3000             2      16        \n",
       "  expandable_upto_gb n_rear_cams best_rear_cam best_front_cam n_front_cams\n",
       "1  32                1            8            8              1           \n",
       "2 128                2           16            8              1           \n",
       "3 128                1           13            0              0           \n",
       "  Operating.system Touchscreen Number.of.SIMs days_since_release\n",
       "1 Android          Yes         1              2738              \n",
       "2 Android          Yes         2              1854              \n",
       "3 Android          Yes         2              2738              "
      ]
     },
     "metadata": {},
     "output_type": "display_data"
    }
   ],
   "source": [
    "final_df <- merged_df\n",
    "# Operating System\n",
    "final_df$Operating.system <- ifelse(grepl('Android', final_df$Operating.system), 'Android', 'OTHER')\n",
    "# Release Date\n",
    "final_df$Release.date <- parse_date_time(final_df$Release.date, orders = c(\"mdy\", \"bYd\", \"Y-m-d\", \"d-b-Y\", \"b-y\", \"b-Y\"))\n",
    "final_df$days_since_release <- as.numeric(difftime(as.Date(\"2023-03-01\"), final_df$Release.date, units = \"days\"))\n",
    "final_df$Release.date <- NULL\n",
    "# drop missing Values if any\n",
    "final_df <- final_df[complete.cases(final_df), ]\n",
    "head(final_df, 3)"
   ]
  },
  {
   "cell_type": "code",
   "execution_count": 18,
   "id": "96948202",
   "metadata": {
    "vscode": {
     "languageId": "r"
    }
   },
   "outputs": [],
   "source": [
    "# Factor columns\n",
    "final_df$brand <- as.factor(final_df$brand)\n",
    "final_df$Operating.system <- as.factor(final_df$Operating.system)\n",
    "final_df$Touchscreen <- ifelse(final_df$Touchscreen != 'Yes', 'No', final_df$Touchscreen)\n",
    "final_df$Touchscreen <- as.factor(final_df$Touchscreen)\n",
    "# drop phone name\n",
    "final_df$name <- NULL"
   ]
  },
  {
   "cell_type": "code",
   "execution_count": 19,
   "id": "3535324a",
   "metadata": {
    "vscode": {
     "languageId": "r"
    }
   },
   "outputs": [
    {
     "data": {
      "text/plain": [
       "       brand         price            rating         display      \n",
       " VIVO     : 86   Min.   :  1489   Min.   :2.300   Min.   :  4.50  \n",
       " ASUS     : 49   1st Qu.:  8499   1st Qu.:3.900   1st Qu.: 13.21  \n",
       " OPPO     : 49   Median : 12499   Median :4.100   Median : 14.83  \n",
       " SAMSUNG  : 38   Mean   : 16813   Mean   :4.092   Mean   : 14.90  \n",
       " NOKIA    : 36   3rd Qu.: 19990   3rd Qu.:4.300   3rd Qu.: 16.51  \n",
       " PANASONIC: 35   Max.   :128999   Max.   :4.700   Max.   :167.64  \n",
       " (Other)  :306                                                    \n",
       " battery_capacity     ram_gb         storage_gb      expandable_upto_gb\n",
       " Min.   :1020     Min.   : 0.004   Min.   :  0.004   Min.   :    0.0   \n",
       " 1st Qu.:3000     1st Qu.: 2.000   1st Qu.: 16.000   1st Qu.:   32.0   \n",
       " Median :3500     Median : 3.000   Median : 32.000   Median :  128.0   \n",
       " Mean   :3692     Mean   : 3.782   Mean   : 61.469   Mean   :  374.6   \n",
       " 3rd Qu.:5000     3rd Qu.: 4.000   3rd Qu.: 64.000   3rd Qu.:  256.0   \n",
       " Max.   :7000     Max.   :18.000   Max.   :512.000   Max.   :20000.0   \n",
       "                                                                       \n",
       "  n_rear_cams    best_rear_cam    best_front_cam   n_front_cams   \n",
       " Min.   :1.000   Min.   :  0.30   Min.   : 0.00   Min.   :0.0000  \n",
       " 1st Qu.:1.000   1st Qu.: 12.00   1st Qu.: 5.00   1st Qu.:1.0000  \n",
       " Median :1.000   Median : 13.00   Median : 8.00   Median :1.0000  \n",
       " Mean   :1.761   Mean   : 20.72   Mean   :10.35   Mean   :0.9983  \n",
       " 3rd Qu.:2.000   3rd Qu.: 16.00   3rd Qu.:13.00   3rd Qu.:1.0000  \n",
       " Max.   :4.000   Max.   :200.00   Max.   :60.00   Max.   :3.0000  \n",
       "                                                                  \n",
       " Operating.system Touchscreen Number.of.SIMs  days_since_release\n",
       " Android:585      No : 17     Min.   :1.000   Min.   :  13.0    \n",
       " OTHER  : 14      Yes:582     1st Qu.:2.000   1st Qu.: 843.5    \n",
       "                              Median :2.000   Median :1734.0    \n",
       "                              Mean   :1.957   Mean   :1660.8    \n",
       "                              3rd Qu.:2.000   3rd Qu.:2372.0    \n",
       "                              Max.   :3.000   Max.   :3256.0    \n",
       "                                                                "
      ]
     },
     "metadata": {},
     "output_type": "display_data"
    },
    {
     "data": {
      "text/html": [
       "<style>\n",
       ".list-inline {list-style: none; margin:0; padding: 0}\n",
       ".list-inline>li {display: inline-block}\n",
       ".list-inline>li:not(:last-child)::after {content: \"\\00b7\"; padding: 0 .5ex}\n",
       "</style>\n",
       "<ol class=list-inline><li>599</li><li>16</li></ol>\n"
      ],
      "text/latex": [
       "\\begin{enumerate*}\n",
       "\\item 599\n",
       "\\item 16\n",
       "\\end{enumerate*}\n"
      ],
      "text/markdown": [
       "1. 599\n",
       "2. 16\n",
       "\n",
       "\n"
      ],
      "text/plain": [
       "[1] 599  16"
      ]
     },
     "metadata": {},
     "output_type": "display_data"
    }
   ],
   "source": [
    "summary(final_df)\n",
    "dim(final_df)"
   ]
  },
  {
   "cell_type": "markdown",
   "id": "393142cd",
   "metadata": {},
   "source": [
    "### Step 4: Exploratory Data Analysis"
   ]
  },
  {
   "cell_type": "markdown",
   "id": "489f928a",
   "metadata": {},
   "source": [
    "#### Evaluate Correlation coefficients (Numeric Variables)"
   ]
  },
  {
   "cell_type": "code",
   "execution_count": 20,
   "id": "7ae86720",
   "metadata": {
    "vscode": {
     "languageId": "r"
    }
   },
   "outputs": [
    {
     "data": {
      "image/png": "[encoded data removed]",
      "text/plain": [
       "Plot with title \"\""
      ]
     },
     "metadata": {
      "image/png": {
       "height": 420,
       "width": 420
      }
     },
     "output_type": "display_data"
    }
   ],
   "source": [
    "# define non-numeric variables\n",
    "char_variables <- c('brand', 'Operating.system', 'Touchscreen')\n",
    "num_final_df <- final_df[, !(names(final_df) %in% char_variables)] \n",
    "# calculate correlation matrix\n",
    "corr_matrix <- cor(num_final_df)\n",
    "# Plot the correlation matrix\n",
    "corrplot(corr_matrix, method=\"circle\", type=\"upper\")"
   ]
  },
  {
   "cell_type": "markdown",
   "id": "8825a9dd",
   "metadata": {},
   "source": [
    "#### Variance Inflation Factor (VIF)"
   ]
  },
  {
   "cell_type": "code",
   "execution_count": 21,
   "id": "465ce497",
   "metadata": {
    "vscode": {
     "languageId": "r"
    }
   },
   "outputs": [
    {
     "data": {
      "image/png": "[encoded data removed]",
      "text/plain": [
       "Plot with title \"Variance Inflation Factor (VIF)\""
      ]
     },
     "metadata": {
      "image/png": {
       "height": 420,
       "width": 420
      }
     },
     "output_type": "display_data"
    }
   ],
   "source": [
    "# build basic model\n",
    "vif_lm <- lm(rating~., data=num_final_df)\n",
    "# Calculate and Plot VIF\n",
    "vif_values <- vif(vif_lm)\n",
    "barplot(vif_values, main = \"Variance Inflation Factor (VIF)\",  ylab = \"VIF\", col = \"skyblue\", las = 2)"
   ]
  },
  {
   "cell_type": "markdown",
   "id": "227177d2",
   "metadata": {},
   "source": [
    "#### Factor Variables"
   ]
  },
  {
   "cell_type": "code",
   "execution_count": 22,
   "id": "f9e5d733",
   "metadata": {
    "vscode": {
     "languageId": "r"
    }
   },
   "outputs": [
    {
     "data": {
      "text/html": [
       "<style>\n",
       ".dl-inline {width: auto; margin:0; padding: 0}\n",
       ".dl-inline>dt, .dl-inline>dd {float: none; width: auto; display: inline-block}\n",
       ".dl-inline>dt::after {content: \":\\0020\"; padding-right: .5ex}\n",
       ".dl-inline>dt:not(:first-of-type) {padding-left: .5ex}\n",
       "</style><dl class=dl-inline><dt>No</dt><dd>17</dd><dt>Yes</dt><dd>582</dd></dl>\n"
      ],
      "text/latex": [
       "\\begin{description*}\n",
       "\\item[No] 17\n",
       "\\item[Yes] 582\n",
       "\\end{description*}\n"
      ],
      "text/markdown": [
       "No\n",
       ":   17Yes\n",
       ":   582\n",
       "\n"
      ],
      "text/plain": [
       " No Yes \n",
       " 17 582 "
      ]
     },
     "metadata": {},
     "output_type": "display_data"
    },
    {
     "data": {
      "text/html": [
       "<style>\n",
       ".dl-inline {width: auto; margin:0; padding: 0}\n",
       ".dl-inline>dt, .dl-inline>dd {float: none; width: auto; display: inline-block}\n",
       ".dl-inline>dt::after {content: \":\\0020\"; padding-right: .5ex}\n",
       ".dl-inline>dt:not(:first-of-type) {padding-left: .5ex}\n",
       "</style><dl class=dl-inline><dt>Android</dt><dd>585</dd><dt>OTHER</dt><dd>14</dd></dl>\n"
      ],
      "text/latex": [
       "\\begin{description*}\n",
       "\\item[Android] 585\n",
       "\\item[OTHER] 14\n",
       "\\end{description*}\n"
      ],
      "text/markdown": [
       "Android\n",
       ":   585OTHER\n",
       ":   14\n",
       "\n"
      ],
      "text/plain": [
       "Android   OTHER \n",
       "    585      14 "
      ]
     },
     "metadata": {},
     "output_type": "display_data"
    }
   ],
   "source": [
    "summary(final_df$Touchscreen)\n",
    "summary(final_df$Operating.system)"
   ]
  },
  {
   "cell_type": "code",
   "execution_count": 23,
   "id": "63c91b50",
   "metadata": {
    "vscode": {
     "languageId": "r"
    }
   },
   "outputs": [
    {
     "data": {
      "text/html": [
       "42"
      ],
      "text/latex": [
       "42"
      ],
      "text/markdown": [
       "42"
      ],
      "text/plain": [
       "[1] 42"
      ]
     },
     "metadata": {},
     "output_type": "display_data"
    },
    {
     "data": {
      "text/plain": [
       "\n",
       "            ACER          ALCATEL             ASUS          COOLPAD \n",
       "               1                5               49                8 \n",
       "            DIZO        ENERGIZER           GIONEE           GOOGLE \n",
       "               2                1               13                1 \n",
       "           HONOR              HTC           HUAWEI          INFOCUS \n",
       "              32               12                3                1 \n",
       "           INTEX             IQOO             ITEL           IVOOMI \n",
       "              14                1                4                2 \n",
       "            JIVI          KARBONN             LAVA           LENOVO \n",
       "               1                2               27               29 \n",
       "              LG              LYF MARQ BY FLIPKART            MEIZU \n",
       "              15                9                1                4 \n",
       "        MICROMAX         MOTOROLA              MTS            NOKIA \n",
       "              14               22                1               36 \n",
       "           NUBIA          ONEPLUS             OPPO        PANASONIC \n",
       "               1                6               49               35 \n",
       "         SAMSUNG         SMARTRON             SONY            SWIPE \n",
       "              38                1               11                1 \n",
       "           TECNO             VIVO             XOLO               YU \n",
       "              33               86               18                8 \n",
       "             ZEN             ZOPO \n",
       "               1                1 "
      ]
     },
     "metadata": {},
     "output_type": "display_data"
    }
   ],
   "source": [
    "length(levels(final_df$brand))\n",
    "table(final_df$brand)"
   ]
  },
  {
   "cell_type": "markdown",
   "id": "1130e343",
   "metadata": {},
   "source": [
    "#### Check distribution of Y variable"
   ]
  },
  {
   "cell_type": "code",
   "execution_count": 24,
   "id": "9fa222a7",
   "metadata": {
    "vscode": {
     "languageId": "r"
    }
   },
   "outputs": [
    {
     "data": {
      "image/png": "[encoded data removed]",
      "text/plain": [
       "Plot with title \"Histogram of final_df$rating\""
      ]
     },
     "metadata": {
      "image/png": {
       "height": 420,
       "width": 420
      }
     },
     "output_type": "display_data"
    },
    {
     "data": {
      "image/png": "[encoded data removed]",
      "text/plain": [
       "Plot with title \"Normal Q-Q Plot\""
      ]
     },
     "metadata": {
      "image/png": {
       "height": 420,
       "width": 420
      }
     },
     "output_type": "display_data"
    }
   ],
   "source": [
    "hist(final_df$rating)\n",
    "# QQplot of Y-Variable\n",
    "qqnorm(final_df$rating)\n",
    "qqline(final_df$rating)"
   ]
  },
  {
   "cell_type": "markdown",
   "id": "02f5c041",
   "metadata": {},
   "source": [
    "#### Remove Outliers"
   ]
  },
  {
   "cell_type": "code",
   "execution_count": 25,
   "id": "d4c2d57e",
   "metadata": {
    "vscode": {
     "languageId": "r"
    }
   },
   "outputs": [
    {
     "data": {
      "text/html": [
       "<table class=\"dataframe\">\n",
       "<caption>A data.frame: 1 × 16</caption>\n",
       "<thead>\n",
       "\t<tr><th scope=col>brand</th><th scope=col>price</th><th scope=col>rating</th><th scope=col>display</th><th scope=col>battery_capacity</th><th scope=col>ram_gb</th><th scope=col>storage_gb</th><th scope=col>expandable_upto_gb</th><th scope=col>n_rear_cams</th><th scope=col>best_rear_cam</th><th scope=col>best_front_cam</th><th scope=col>n_front_cams</th><th scope=col>Operating.system</th><th scope=col>Touchscreen</th><th scope=col>Number.of.SIMs</th><th scope=col>days_since_release</th></tr>\n",
       "\t<tr><th scope=col>&lt;fct&gt;</th><th scope=col>&lt;int&gt;</th><th scope=col>&lt;dbl&gt;</th><th scope=col>&lt;dbl&gt;</th><th scope=col>&lt;int&gt;</th><th scope=col>&lt;dbl&gt;</th><th scope=col>&lt;dbl&gt;</th><th scope=col>&lt;dbl&gt;</th><th scope=col>&lt;int&gt;</th><th scope=col>&lt;dbl&gt;</th><th scope=col>&lt;dbl&gt;</th><th scope=col>&lt;int&gt;</th><th scope=col>&lt;fct&gt;</th><th scope=col>&lt;fct&gt;</th><th scope=col>&lt;int&gt;</th><th scope=col>&lt;dbl&gt;</th></tr>\n",
       "</thead>\n",
       "<tbody>\n",
       "\t<tr><td>JIVI</td><td>7588</td><td>2.3</td><td>12.7</td><td>2400</td><td>1</td><td>16</td><td>32</td><td>1</td><td>8</td><td>5</td><td>1</td><td>Android</td><td>Yes</td><td>1</td><td>2038</td></tr>\n",
       "</tbody>\n",
       "</table>\n"
      ],
      "text/latex": [
       "A data.frame: 1 × 16\n",
       "\\begin{tabular}{llllllllllllllll}\n",
       " brand & price & rating & display & battery\\_capacity & ram\\_gb & storage\\_gb & expandable\\_upto\\_gb & n\\_rear\\_cams & best\\_rear\\_cam & best\\_front\\_cam & n\\_front\\_cams & Operating.system & Touchscreen & Number.of.SIMs & days\\_since\\_release\\\\\n",
       " <fct> & <int> & <dbl> & <dbl> & <int> & <dbl> & <dbl> & <dbl> & <int> & <dbl> & <dbl> & <int> & <fct> & <fct> & <int> & <dbl>\\\\\n",
       "\\hline\n",
       "\t JIVI & 7588 & 2.3 & 12.7 & 2400 & 1 & 16 & 32 & 1 & 8 & 5 & 1 & Android & Yes & 1 & 2038\\\\\n",
       "\\end{tabular}\n"
      ],
      "text/markdown": [
       "\n",
       "A data.frame: 1 × 16\n",
       "\n",
       "| brand &lt;fct&gt; | price &lt;int&gt; | rating &lt;dbl&gt; | display &lt;dbl&gt; | battery_capacity &lt;int&gt; | ram_gb &lt;dbl&gt; | storage_gb &lt;dbl&gt; | expandable_upto_gb &lt;dbl&gt; | n_rear_cams &lt;int&gt; | best_rear_cam &lt;dbl&gt; | best_front_cam &lt;dbl&gt; | n_front_cams &lt;int&gt; | Operating.system &lt;fct&gt; | Touchscreen &lt;fct&gt; | Number.of.SIMs &lt;int&gt; | days_since_release &lt;dbl&gt; |\n",
       "|---|---|---|---|---|---|---|---|---|---|---|---|---|---|---|---|\n",
       "| JIVI | 7588 | 2.3 | 12.7 | 2400 | 1 | 16 | 32 | 1 | 8 | 5 | 1 | Android | Yes | 1 | 2038 |\n",
       "\n"
      ],
      "text/plain": [
       "  brand price rating display battery_capacity ram_gb storage_gb\n",
       "1 JIVI  7588  2.3    12.7    2400             1      16        \n",
       "  expandable_upto_gb n_rear_cams best_rear_cam best_front_cam n_front_cams\n",
       "1 32                 1           8             5              1           \n",
       "  Operating.system Touchscreen Number.of.SIMs days_since_release\n",
       "1 Android          Yes         1              2038              "
      ]
     },
     "metadata": {},
     "output_type": "display_data"
    }
   ],
   "source": [
    "filter(final_df, rating < 3)"
   ]
  },
  {
   "cell_type": "code",
   "execution_count": 26,
   "id": "5603ec22",
   "metadata": {
    "vscode": {
     "languageId": "r"
    }
   },
   "outputs": [
    {
     "data": {
      "image/png": "[encoded data removed]",
      "text/plain": [
       "Plot with title \"Histogram of final_df$rating\""
      ]
     },
     "metadata": {
      "image/png": {
       "height": 420,
       "width": 420
      }
     },
     "output_type": "display_data"
    },
    {
     "data": {
      "image/png": "[encoded data removed]",
      "text/plain": [
       "Plot with title \"Normal Q-Q Plot\""
      ]
     },
     "metadata": {
      "image/png": {
       "height": 420,
       "width": 420
      }
     },
     "output_type": "display_data"
    }
   ],
   "source": [
    "# filter to rating >= 3\n",
    "final_df <- filter(final_df, rating >= 3)\n",
    "hist(final_df$rating)\n",
    "# QQplot of Y-Variable\n",
    "qqnorm(final_df$rating)\n",
    "qqline(final_df$rating)"
   ]
  },
  {
   "cell_type": "markdown",
   "id": "9e3c4f3d",
   "metadata": {},
   "source": [
    "### Step 5: Model preparation"
   ]
  },
  {
   "cell_type": "code",
   "execution_count": 27,
   "id": "4837ddbd",
   "metadata": {
    "vscode": {
     "languageId": "r"
    }
   },
   "outputs": [],
   "source": [
    "#Remove Touchscreen as a variable\n",
    "final_df <- final_df[final_df$Touchscreen == \"Yes\", ]\n",
    "final_df$Touchscreen<-NULL"
   ]
  },
  {
   "cell_type": "code",
   "execution_count": 28,
   "id": "bc38d809",
   "metadata": {
    "vscode": {
     "languageId": "r"
    }
   },
   "outputs": [],
   "source": [
    "#Remove brands with only one phone\n",
    "final_df<-subset(final_df,final_df$brand !='ACER' & final_df$brand !='ENERGIZER'& final_df$brand !='GOOGLE'&final_df$brand !='INFOCUS'&final_df$brand !='IQOO' &\n",
    "final_df$brand !='JIVI'& final_df$brand !='MARQ BY FLIPKART'&final_df$brand !='MTS'&final_df$brand !='NUBIA'&final_df$brand !='SMARTRON'&\n",
    "final_df$brand !='SWIPE'&final_df$brand !='ZEN'&final_df$brand !='ZOPO'&final_df$brand !='KARBONN'&final_df$brand !='KARBONN'&final_df$brand !='HUAWEI'&\n",
    "                 final_df$brand !='ITEL'&final_df$brand !='IVOOMI', ) "
   ]
  },
  {
   "cell_type": "code",
   "execution_count": 29,
   "id": "9f6a399c",
   "metadata": {
    "vscode": {
     "languageId": "r"
    }
   },
   "outputs": [
    {
     "name": "stdout",
     "output_type": "stream",
     "text": [
      "'data.frame':\t559 obs. of  15 variables:\n",
      " $ brand             : Factor w/ 42 levels \"ACER\",\"ALCATEL\",..: 2 2 2 2 2 3 3 3 3 3 ...\n",
      " $ price             : int  10999 9999 9499 9499 6499 43999 42999 57999 57999 79999 ...\n",
      " $ rating            : num  3.7 3.9 4.4 4.4 3.6 4.3 4.3 4.4 4.1 4.6 ...\n",
      " $ display           : num  15.2 12.7 15.2 15.2 12.7 ...\n",
      " $ battery_capacity  : int  3000 3000 2580 2580 2200 5000 4000 6000 6000 6000 ...\n",
      " $ ram_gb            : num  3 2 1.5 1.5 2 8 8 12 12 18 ...\n",
      " $ storage_gb        : num  32 16 16 16 16 256 128 256 256 512 ...\n",
      " $ expandable_upto_gb: num  128 128 64 64 32 2000 0 0 0 0 ...\n",
      " $ n_rear_cams       : int  2 1 1 1 1 2 2 3 3 3 ...\n",
      " $ best_rear_cam     : num  16 13 8 8 13 48 64 64 64 64 ...\n",
      " $ best_front_cam    : num  8 0 5 5 8 48 12 24 24 24 ...\n",
      " $ n_front_cams      : int  1 0 1 1 1 2 1 1 1 1 ...\n",
      " $ Operating.system  : Factor w/ 2 levels \"Android\",\"OTHER\": 1 1 1 1 1 1 1 1 1 1 ...\n",
      " $ Number.of.SIMs    : int  2 2 2 2 2 2 2 2 2 2 ...\n",
      " $ days_since_release: num  1854 2738 2616 2372 2038 ...\n"
     ]
    }
   ],
   "source": [
    "#Variable Types\n",
    "str(final_df)"
   ]
  },
  {
   "cell_type": "markdown",
   "id": "bd64fa3a",
   "metadata": {},
   "source": [
    "#### Split Data for Training and Testing"
   ]
  },
  {
   "cell_type": "code",
   "execution_count": 30,
   "id": "02039c5d",
   "metadata": {
    "vscode": {
     "languageId": "r"
    }
   },
   "outputs": [],
   "source": [
    "set.seed(114)\n",
    "#split into train and test\n",
    "trainIndex <- createDataPartition(final_df$rating, p = 0.7, list = FALSE)\n",
    "train <- final_df[trainIndex,]\n",
    "test <- final_df[-trainIndex,]"
   ]
  },
  {
   "cell_type": "markdown",
   "id": "d711568f",
   "metadata": {},
   "source": [
    "#### Use Cook's Distance to Identify Outliers"
   ]
  },
  {
   "cell_type": "code",
   "execution_count": 31,
   "id": "bae10fb0",
   "metadata": {
    "vscode": {
     "languageId": "r"
    }
   },
   "outputs": [],
   "source": [
    "temp_model <- lm(rating ~ ., data = train)\n",
    "#Use Cook's Distance\n",
    "train$cooks <-cooks.distance(temp_model)\n",
    "# remove the outlier\n",
    "train <- filter(train, cooks < 1)\n",
    "train$cooks <- NULL"
   ]
  },
  {
   "cell_type": "markdown",
   "id": "3b739c79",
   "metadata": {},
   "source": [
    "#### Calculate Leverage points"
   ]
  },
  {
   "cell_type": "code",
   "execution_count": 32,
   "id": "5915beef",
   "metadata": {
    "vscode": {
     "languageId": "r"
    }
   },
   "outputs": [],
   "source": [
    "temp_model <- lm(rating ~ ., data = train)\n",
    "train$leverage <- hatvalues(temp_model)\n",
    "# remove the outlier\n",
    "train <- filter(train, leverage < 1)\n",
    "train$leverage <- NULL"
   ]
  },
  {
   "cell_type": "markdown",
   "id": "6134ac18",
   "metadata": {},
   "source": [
    "### Step 6: Modelling"
   ]
  },
  {
   "cell_type": "markdown",
   "id": "d451fdd7",
   "metadata": {},
   "source": [
    "#### Linear Regression "
   ]
  },
  {
   "cell_type": "code",
   "execution_count": 33,
   "id": "6dbc00f8",
   "metadata": {
    "vscode": {
     "languageId": "r"
    }
   },
   "outputs": [
    {
     "data": {
      "text/plain": [
       "\n",
       "Call:\n",
       "lm(formula = rating ~ ., data = train)\n",
       "\n",
       "Residuals:\n",
       "     Min       1Q   Median       3Q      Max \n",
       "-0.51453 -0.07411  0.01063  0.08620  0.40925 \n",
       "\n",
       "Coefficients:\n",
       "                        Estimate Std. Error t value Pr(>|t|)    \n",
       "(Intercept)            3.291e+00  2.047e-01  16.075  < 2e-16 ***\n",
       "brandASUS              3.897e-02  7.839e-02   0.497 0.619417    \n",
       "brandCOOLPAD          -1.722e-01  1.165e-01  -1.478 0.140242    \n",
       "brandGIONEE           -6.320e-02  9.258e-02  -0.683 0.495277    \n",
       "brandHONOR             2.510e-01  8.066e-02   3.112 0.002010 ** \n",
       "brandHTC               7.456e-02  9.283e-02   0.803 0.422435    \n",
       "brandINTEX            -2.991e-01  8.839e-02  -3.384 0.000795 ***\n",
       "brandLAVA             -1.161e-02  8.074e-02  -0.144 0.885701    \n",
       "brandLENOVO            2.758e-02  8.033e-02   0.343 0.731567    \n",
       "brandLG               -5.321e-02  9.097e-02  -0.585 0.559020    \n",
       "brandLYF              -2.371e-01  1.077e-01  -2.203 0.028263 *  \n",
       "brandMEIZU            -1.845e-01  1.076e-01  -1.715 0.087158 .  \n",
       "brandMICROMAX         -9.643e-02  8.852e-02  -1.089 0.276703    \n",
       "brandMOTOROLA          1.275e-01  8.303e-02   1.536 0.125417    \n",
       "brandNOKIA            -5.105e-02  7.991e-02  -0.639 0.523324    \n",
       "brandONEPLUS           3.117e-01  1.254e-01   2.485 0.013408 *  \n",
       "brandOPPO              2.800e-01  7.841e-02   3.571 0.000405 ***\n",
       "brandPANASONIC        -1.719e-01  7.882e-02  -2.181 0.029863 *  \n",
       "brandSAMSUNG           1.938e-01  8.084e-02   2.397 0.017042 *  \n",
       "brandSONY             -3.212e-02  9.785e-02  -0.328 0.742873    \n",
       "brandTECNO             1.068e-01  8.221e-02   1.299 0.194717    \n",
       "brandVIVO              2.651e-01  7.735e-02   3.427 0.000682 ***\n",
       "brandXOLO             -9.972e-02  8.966e-02  -1.112 0.266839    \n",
       "brandYU               -1.367e-01  1.021e-01  -1.339 0.181443    \n",
       "price                  4.345e-06  1.049e-06   4.143 4.28e-05 ***\n",
       "display                4.152e-02  1.193e-02   3.481 0.000562 ***\n",
       "battery_capacity       2.299e-05  1.620e-05   1.419 0.156741    \n",
       "ram_gb                -8.340e-03  1.011e-02  -0.825 0.410165    \n",
       "storage_gb             2.017e-05  3.549e-04   0.057 0.954723    \n",
       "expandable_upto_gb    -7.125e-06  6.863e-06  -1.038 0.299856    \n",
       "n_rear_cams           -1.217e-02  1.316e-02  -0.925 0.355666    \n",
       "best_rear_cam         -1.552e-03  6.917e-04  -2.243 0.025496 *  \n",
       "best_front_cam         2.648e-03  1.450e-03   1.826 0.068729 .  \n",
       "n_front_cams          -4.806e-02  3.272e-02  -1.469 0.142788    \n",
       "Operating.systemOTHER  6.843e-02  9.429e-02   0.726 0.468457    \n",
       "Number.of.SIMs         2.135e-02  4.403e-02   0.485 0.628054    \n",
       "days_since_release     2.087e-05  1.865e-05   1.119 0.263867    \n",
       "---\n",
       "Signif. codes:  0 '***' 0.001 '**' 0.01 '*' 0.05 '.' 0.1 ' ' 1\n",
       "\n",
       "Residual standard error: 0.1575 on 356 degrees of freedom\n",
       "Multiple R-squared:  0.6949,\tAdjusted R-squared:  0.6641 \n",
       "F-statistic: 22.53 on 36 and 356 DF,  p-value: < 2.2e-16\n"
      ]
     },
     "metadata": {},
     "output_type": "display_data"
    }
   ],
   "source": [
    "#Train model\n",
    "first_model <- lm(rating ~ ., data = train)\n",
    "#Predict test data\n",
    "predictions1 <- predict(first_model, newdata = test)\n",
    "#Model summary\n",
    "summary(first_model)"
   ]
  },
  {
   "cell_type": "code",
   "execution_count": 34,
   "id": "831bed1a",
   "metadata": {
    "vscode": {
     "languageId": "r"
    }
   },
   "outputs": [
    {
     "data": {
      "image/png": "[encoded data removed]",
      "text/plain": [
       "Plot with title \"\""
      ]
     },
     "metadata": {
      "image/png": {
       "height": 420,
       "width": 420
      }
     },
     "output_type": "display_data"
    },
    {
     "data": {
      "image/png": "[encoded data removed]",
      "text/plain": [
       "Plot with title \"\""
      ]
     },
     "metadata": {
      "image/png": {
       "height": 420,
       "width": 420
      }
     },
     "output_type": "display_data"
    },
    {
     "data": {
      "image/png": "[encoded data removed]",
      "text/plain": [
       "Plot with title \"\""
      ]
     },
     "metadata": {
      "image/png": {
       "height": 420,
       "width": 420
      }
     },
     "output_type": "display_data"
    },
    {
     "data": {
      "image/png": "[encoded data removed]",
      "text/plain": [
       "Plot with title \"\""
      ]
     },
     "metadata": {
      "image/png": {
       "height": 420,
       "width": 420
      }
     },
     "output_type": "display_data"
    }
   ],
   "source": [
    "plot(first_model)"
   ]
  },
  {
   "cell_type": "markdown",
   "id": "fc10daab",
   "metadata": {},
   "source": [
    "#### Retrain linear regression model with significant features only"
   ]
  },
  {
   "cell_type": "code",
   "execution_count": 35,
   "id": "49678a78",
   "metadata": {
    "vscode": {
     "languageId": "r"
    }
   },
   "outputs": [
    {
     "data": {
      "text/plain": [
       "\n",
       "Call:\n",
       "lm(formula = rating ~ brand + price + display + best_rear_cam, \n",
       "    data = train)\n",
       "\n",
       "Residuals:\n",
       "     Min       1Q   Median       3Q      Max \n",
       "-0.54094 -0.07572  0.00949  0.09035  0.41189 \n",
       "\n",
       "Coefficients:\n",
       "                 Estimate Std. Error t value Pr(>|t|)    \n",
       "(Intercept)     3.400e+00  1.197e-01  28.412  < 2e-16 ***\n",
       "brandASUS       3.237e-02  7.622e-02   0.425 0.671304    \n",
       "brandCOOLPAD   -1.752e-01  1.151e-01  -1.523 0.128670    \n",
       "brandGIONEE    -4.837e-02  8.988e-02  -0.538 0.590773    \n",
       "brandHONOR      2.400e-01  7.890e-02   3.042 0.002523 ** \n",
       "brandHTC        6.520e-02  9.190e-02   0.709 0.478504    \n",
       "brandINTEX     -3.211e-01  8.726e-02  -3.680 0.000268 ***\n",
       "brandLAVA      -1.968e-02  7.874e-02  -0.250 0.802768    \n",
       "brandLENOVO     3.353e-02  7.765e-02   0.432 0.666102    \n",
       "brandLG        -8.782e-02  8.845e-02  -0.993 0.321406    \n",
       "brandLYF       -2.410e-01  1.064e-01  -2.266 0.024029 *  \n",
       "brandMEIZU     -1.766e-01  1.057e-01  -1.671 0.095541 .  \n",
       "brandMICROMAX  -1.118e-01  8.649e-02  -1.292 0.197139    \n",
       "brandMOTOROLA   1.297e-01  8.101e-02   1.600 0.110379    \n",
       "brandNOKIA     -6.642e-02  7.785e-02  -0.853 0.394103    \n",
       "brandONEPLUS    3.117e-01  1.165e-01   2.677 0.007774 ** \n",
       "brandOPPO       2.723e-01  7.689e-02   3.542 0.000449 ***\n",
       "brandPANASONIC -1.778e-01  7.726e-02  -2.301 0.021972 *  \n",
       "brandSAMSUNG    1.777e-01  7.853e-02   2.263 0.024251 *  \n",
       "brandSONY      -5.802e-02  9.401e-02  -0.617 0.537537    \n",
       "brandTECNO      1.092e-01  7.871e-02   1.388 0.166093    \n",
       "brandVIVO       2.569e-01  7.464e-02   3.442 0.000644 ***\n",
       "brandXOLO      -1.078e-01  8.850e-02  -1.218 0.224152    \n",
       "brandYU        -1.207e-01  9.563e-02  -1.262 0.207865    \n",
       "price           4.222e-06  7.735e-07   5.458 8.88e-08 ***\n",
       "display         4.076e-02  6.967e-03   5.851 1.08e-08 ***\n",
       "best_rear_cam  -1.611e-03  5.282e-04  -3.050 0.002458 ** \n",
       "---\n",
       "Signif. codes:  0 '***' 0.001 '**' 0.01 '*' 0.05 '.' 0.1 ' ' 1\n",
       "\n",
       "Residual standard error: 0.1575 on 366 degrees of freedom\n",
       "Multiple R-squared:  0.6864,\tAdjusted R-squared:  0.6641 \n",
       "F-statistic: 30.81 on 26 and 366 DF,  p-value: < 2.2e-16\n"
      ]
     },
     "metadata": {},
     "output_type": "display_data"
    }
   ],
   "source": [
    "#Final model\n",
    "final_model <- lm(rating ~ brand+price+display+best_rear_cam, data = train)\n",
    "#Predict test data\n",
    "predictions2 <- predict(final_model, newdata = test)\n",
    "summary(final_model)"
   ]
  },
  {
   "cell_type": "code",
   "execution_count": 36,
   "id": "99d09b7f",
   "metadata": {
    "vscode": {
     "languageId": "r"
    }
   },
   "outputs": [
    {
     "data": {
      "image/png": "[encoded data removed]",
      "text/plain": [
       "Plot with title \"\""
      ]
     },
     "metadata": {
      "image/png": {
       "height": 420,
       "width": 420
      }
     },
     "output_type": "display_data"
    },
    {
     "data": {
      "image/png": "[encoded data removed]",
      "text/plain": [
       "Plot with title \"\""
      ]
     },
     "metadata": {
      "image/png": {
       "height": 420,
       "width": 420
      }
     },
     "output_type": "display_data"
    },
    {
     "data": {
      "image/png": "[encoded data removed]",
      "text/plain": [
       "Plot with title \"\""
      ]
     },
     "metadata": {
      "image/png": {
       "height": 420,
       "width": 420
      }
     },
     "output_type": "display_data"
    },
    {
     "data": {
      "image/png": "[encoded data removed]",
      "text/plain": [
       "Plot with title \"\""
      ]
     },
     "metadata": {
      "image/png": {
       "height": 420,
       "width": 420
      }
     },
     "output_type": "display_data"
    }
   ],
   "source": [
    "plot(final_model)"
   ]
  },
  {
   "cell_type": "code",
   "execution_count": 37,
   "id": "55bfdec1",
   "metadata": {
    "vscode": {
     "languageId": "r"
    }
   },
   "outputs": [],
   "source": [
    "#Calculate mean-squared error\n",
    "linear_regression_mse <- mean((test$rating - predictions2)^2)\n",
    "linear_regression_rmse <- sqrt(linear_regression_mse)\n",
    "#R-Squared\n",
    "lm_r_squared <- summary(final_model)$adj.r.squared"
   ]
  },
  {
   "cell_type": "markdown",
   "id": "bd3c7cd3",
   "metadata": {},
   "source": [
    "#### Random Forest"
   ]
  },
  {
   "cell_type": "code",
   "execution_count": 38,
   "id": "82ad1158",
   "metadata": {
    "vscode": {
     "languageId": "r"
    }
   },
   "outputs": [],
   "source": [
    "# Train random forest regression model \n",
    "random_forest_model <- randomForest(rating ~ ., data = train, ntree = 1000)\n",
    "# Make predictions on the test set using the predict() function\n",
    "predictions <- predict(random_forest_model, newdata = test)"
   ]
  },
  {
   "cell_type": "code",
   "execution_count": 39,
   "id": "0fec6dc5",
   "metadata": {
    "vscode": {
     "languageId": "r"
    }
   },
   "outputs": [],
   "source": [
    "# Calculate mean squared error (MSE)\n",
    "random_forest_mse <- mean((test$rating - predictions)^2)\n",
    "random_forest_rmse <- sqrt(random_forest_mse)"
   ]
  },
  {
   "cell_type": "code",
   "execution_count": 40,
   "id": "f4f5056a",
   "metadata": {
    "vscode": {
     "languageId": "r"
    }
   },
   "outputs": [
    {
     "data": {
      "text/html": [
       "0.67702566187908"
      ],
      "text/latex": [
       "0.67702566187908"
      ],
      "text/markdown": [
       "0.67702566187908"
      ],
      "text/plain": [
       "[1] 0.6770257"
      ]
     },
     "metadata": {},
     "output_type": "display_data"
    }
   ],
   "source": [
    "#R-squared\n",
    "rf_rsquared <- R2(predictions, test$rating)\n",
    "rf_rsquared"
   ]
  },
  {
   "cell_type": "code",
   "execution_count": 41,
   "id": "3032a165",
   "metadata": {
    "vscode": {
     "languageId": "r"
    }
   },
   "outputs": [
    {
     "data": {
      "text/html": [
       "<table class=\"dataframe\">\n",
       "<caption>A matrix: 14 × 1 of type dbl</caption>\n",
       "<thead>\n",
       "\t<tr><th></th><th scope=col>IncNodePurity</th></tr>\n",
       "</thead>\n",
       "<tbody>\n",
       "\t<tr><th scope=row>brand</th><td>10.19149639</td></tr>\n",
       "\t<tr><th scope=row>price</th><td> 2.99539187</td></tr>\n",
       "\t<tr><th scope=row>display</th><td> 4.01059282</td></tr>\n",
       "\t<tr><th scope=row>battery_capacity</th><td> 2.32709978</td></tr>\n",
       "\t<tr><th scope=row>ram_gb</th><td> 1.41725511</td></tr>\n",
       "\t<tr><th scope=row>storage_gb</th><td> 1.61803136</td></tr>\n",
       "\t<tr><th scope=row>expandable_upto_gb</th><td> 0.85052773</td></tr>\n",
       "\t<tr><th scope=row>n_rear_cams</th><td> 0.56192980</td></tr>\n",
       "\t<tr><th scope=row>best_rear_cam</th><td> 0.60122114</td></tr>\n",
       "\t<tr><th scope=row>best_front_cam</th><td> 1.28564135</td></tr>\n",
       "\t<tr><th scope=row>n_front_cams</th><td> 0.08376556</td></tr>\n",
       "\t<tr><th scope=row>Operating.system</th><td> 0.02630160</td></tr>\n",
       "\t<tr><th scope=row>Number.of.SIMs</th><td> 0.08458175</td></tr>\n",
       "\t<tr><th scope=row>days_since_release</th><td> 1.71118903</td></tr>\n",
       "</tbody>\n",
       "</table>\n"
      ],
      "text/latex": [
       "A matrix: 14 × 1 of type dbl\n",
       "\\begin{tabular}{r|l}\n",
       "  & IncNodePurity\\\\\n",
       "\\hline\n",
       "\tbrand & 10.19149639\\\\\n",
       "\tprice &  2.99539187\\\\\n",
       "\tdisplay &  4.01059282\\\\\n",
       "\tbattery\\_capacity &  2.32709978\\\\\n",
       "\tram\\_gb &  1.41725511\\\\\n",
       "\tstorage\\_gb &  1.61803136\\\\\n",
       "\texpandable\\_upto\\_gb &  0.85052773\\\\\n",
       "\tn\\_rear\\_cams &  0.56192980\\\\\n",
       "\tbest\\_rear\\_cam &  0.60122114\\\\\n",
       "\tbest\\_front\\_cam &  1.28564135\\\\\n",
       "\tn\\_front\\_cams &  0.08376556\\\\\n",
       "\tOperating.system &  0.02630160\\\\\n",
       "\tNumber.of.SIMs &  0.08458175\\\\\n",
       "\tdays\\_since\\_release &  1.71118903\\\\\n",
       "\\end{tabular}\n"
      ],
      "text/markdown": [
       "\n",
       "A matrix: 14 × 1 of type dbl\n",
       "\n",
       "| <!--/--> | IncNodePurity |\n",
       "|---|---|\n",
       "| brand | 10.19149639 |\n",
       "| price |  2.99539187 |\n",
       "| display |  4.01059282 |\n",
       "| battery_capacity |  2.32709978 |\n",
       "| ram_gb |  1.41725511 |\n",
       "| storage_gb |  1.61803136 |\n",
       "| expandable_upto_gb |  0.85052773 |\n",
       "| n_rear_cams |  0.56192980 |\n",
       "| best_rear_cam |  0.60122114 |\n",
       "| best_front_cam |  1.28564135 |\n",
       "| n_front_cams |  0.08376556 |\n",
       "| Operating.system |  0.02630160 |\n",
       "| Number.of.SIMs |  0.08458175 |\n",
       "| days_since_release |  1.71118903 |\n",
       "\n"
      ],
      "text/plain": [
       "                   IncNodePurity\n",
       "brand              10.19149639  \n",
       "price               2.99539187  \n",
       "display             4.01059282  \n",
       "battery_capacity    2.32709978  \n",
       "ram_gb              1.41725511  \n",
       "storage_gb          1.61803136  \n",
       "expandable_upto_gb  0.85052773  \n",
       "n_rear_cams         0.56192980  \n",
       "best_rear_cam       0.60122114  \n",
       "best_front_cam      1.28564135  \n",
       "n_front_cams        0.08376556  \n",
       "Operating.system    0.02630160  \n",
       "Number.of.SIMs      0.08458175  \n",
       "days_since_release  1.71118903  "
      ]
     },
     "metadata": {},
     "output_type": "display_data"
    }
   ],
   "source": [
    "importance(random_forest_model)"
   ]
  },
  {
   "cell_type": "markdown",
   "id": "119cfd3a",
   "metadata": {},
   "source": [
    "#### XGBoost"
   ]
  },
  {
   "cell_type": "code",
   "execution_count": 42,
   "id": "52c06366",
   "metadata": {
    "vscode": {
     "languageId": "r"
    }
   },
   "outputs": [
    {
     "name": "stdout",
     "output_type": "stream",
     "text": [
      "[14:32:00] WARNING: amalgamation/../src/objective/regression_obj.cu:203: reg:linear is now deprecated in favor of reg:squarederror.\n"
     ]
    },
    {
     "data": {
      "image/png": "[encoded data removed]",
      "text/plain": [
       "plot without title"
      ]
     },
     "metadata": {
      "image/png": {
       "height": 420,
       "width": 420
      }
     },
     "output_type": "display_data"
    }
   ],
   "source": [
    "train_mtx <- sparse.model.matrix(rating ~ ., data = train)\n",
    "test_mtx <- sparse.model.matrix(rating ~ ., data = test)\n",
    "\n",
    "dtrain <- xgb.DMatrix(data = train_mtx, label = train$rating)\n",
    "dtest <- xgb.DMatrix(data =test_mtx,label=test$rating)\n",
    "\n",
    "# train XGBoost model\n",
    "xgb_model <- xgboost(data = dtrain, max_depth = 3, eta = 0.1, nrounds = 100, objective = \"reg:linear\", verbose = 0)\n",
    "\n",
    "# get feature importance\n",
    "xgb_importance <- xgb.importance(attr(train_mtx, \"dimnames\")[[2]], model = xgb_model)\n",
    "\n",
    "# plot feature importance\n",
    "xgb.plot.importance(xgb_importance)"
   ]
  },
  {
   "cell_type": "code",
   "execution_count": 43,
   "id": "5a61a5fc",
   "metadata": {
    "vscode": {
     "languageId": "r"
    }
   },
   "outputs": [
    {
     "data": {
      "text/html": [
       "0.6298379507675"
      ],
      "text/latex": [
       "0.6298379507675"
      ],
      "text/markdown": [
       "0.6298379507675"
      ],
      "text/plain": [
       "[1] 0.629838"
      ]
     },
     "metadata": {},
     "output_type": "display_data"
    }
   ],
   "source": [
    "# Make predictions on the test set using the predict() function\n",
    "predictions <- predict(xgb_model, newdata = test_mtx)\n",
    "# Calculate mean squared error (MSE)\n",
    "xgboost_mse <- mean((test$rating - predictions)^2)\n",
    "xgboost_rmse <- sqrt(xgboost_mse)\n",
    "#R-squared\n",
    "xgboost_rsquared <- R2(predictions, test$rating)\n",
    "xgboost_rsquared"
   ]
  },
  {
   "cell_type": "markdown",
   "id": "0e4c5378",
   "metadata": {},
   "source": [
    "### Step 7: Models Comparison"
   ]
  },
  {
   "cell_type": "code",
   "execution_count": 44,
   "id": "188ade12",
   "metadata": {
    "vscode": {
     "languageId": "r"
    }
   },
   "outputs": [
    {
     "data": {
      "text/plain": [
       "          Linear Regression Random Forest    XGBoost\n",
       "R-Squared        0.66412819    0.67702566 0.62983795\n",
       "MSE              0.02584194    0.02546659 0.02865538\n",
       "RMSE             0.16075429    0.15958255 0.15958255"
      ]
     },
     "metadata": {},
     "output_type": "display_data"
    }
   ],
   "source": [
    "#Model Comparison Table\n",
    "\n",
    "table <- matrix(c(lm_r_squared , linear_regression_mse, linear_regression_rmse, \n",
    "                  rf_rsquared,random_forest_mse,random_forest_rmse,\n",
    "                  xgboost_rsquared, xgboost_mse, xgboost_rmse), \n",
    "                ncol=3)\n",
    "\n",
    "#specify row and column names of matrix\n",
    "rownames(table) <- c('R-Squared', 'MSE', 'RMSE')\n",
    "\n",
    "colnames(table) <- c('Linear Regression','Random Forest', 'XGBoost')\n",
    "\n",
    "#convert matrix to table\n",
    "table <- as.table(table)\n",
    "table"
   ]
  }
 ],
 "metadata": {
  "kernelspec": {
   "display_name": "R",
   "language": "R",
   "name": "ir"
  },
  "language_info": {
   "codemirror_mode": "r",
   "file_extension": ".r",
   "mimetype": "text/x-r-source",
   "name": "R",
   "pygments_lexer": "r",
   "version": "4.1.3"
  }
 },
 "nbformat": 4,
 "nbformat_minor": 5
}
